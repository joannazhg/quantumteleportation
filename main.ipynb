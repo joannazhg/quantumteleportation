{
 "cells": [
  {
   "cell_type": "code",
   "execution_count": 1,
   "metadata": {},
   "outputs": [
    {
     "name": "stdout",
     "output_type": "stream",
     "text": [
      "Requirement already satisfied: qiskit in c:\\users\\phanb\\anaconda3\\lib\\site-packages (0.26.2)\n",
      "Requirement already satisfied: qiskit-aer==0.8.2 in c:\\users\\phanb\\anaconda3\\lib\\site-packages (from qiskit) (0.8.2)\n",
      "Requirement already satisfied: qiskit-aqua==0.9.1 in c:\\users\\phanb\\anaconda3\\lib\\site-packages (from qiskit) (0.9.1)\n",
      "Requirement already satisfied: qiskit-ignis==0.6.0 in c:\\users\\phanb\\anaconda3\\lib\\site-packages (from qiskit) (0.6.0)\n",
      "Requirement already satisfied: qiskit-ibmq-provider==0.13.1 in c:\\users\\phanb\\anaconda3\\lib\\site-packages (from qiskit) (0.13.1)\n",
      "Requirement already satisfied: qiskit-terra==0.17.4 in c:\\users\\phanb\\anaconda3\\lib\\site-packages (from qiskit) (0.17.4)\n",
      "Requirement already satisfied: scipy>=1.0 in c:\\users\\phanb\\anaconda3\\lib\\site-packages (from qiskit-aer==0.8.2->qiskit) (1.4.1)\n",
      "Requirement already satisfied: pybind11>=2.6 in c:\\users\\phanb\\anaconda3\\lib\\site-packages (from qiskit-aer==0.8.2->qiskit) (2.6.2)\n",
      "Requirement already satisfied: numpy>=1.16.3 in c:\\users\\phanb\\anaconda3\\lib\\site-packages (from qiskit-aer==0.8.2->qiskit) (1.18.1)\n",
      "Requirement already satisfied: retworkx<=0.8.0,>=0.7.0 in c:\\users\\phanb\\anaconda3\\lib\\site-packages (from qiskit-aqua==0.9.1->qiskit) (0.8.0)\n",
      "Requirement already satisfied: docplex<=2.20.204; sys_platform != \"darwin\" in c:\\users\\phanb\\anaconda3\\lib\\site-packages (from qiskit-aqua==0.9.1->qiskit) (2.20.204)\n",
      "Requirement already satisfied: setuptools>=40.1.0 in c:\\users\\phanb\\anaconda3\\lib\\site-packages (from qiskit-aqua==0.9.1->qiskit) (45.2.0.post20200210)\n",
      "Requirement already satisfied: h5py<=3.1.0 in c:\\users\\phanb\\anaconda3\\lib\\site-packages (from qiskit-aqua==0.9.1->qiskit) (2.10.0)\n",
      "Requirement already satisfied: scikit-learn<=0.24.1,>=0.20.0 in c:\\users\\phanb\\anaconda3\\lib\\site-packages (from qiskit-aqua==0.9.1->qiskit) (0.22.1)\n",
      "Requirement already satisfied: yfinance<=0.1.55 in c:\\users\\phanb\\anaconda3\\lib\\site-packages (from qiskit-aqua==0.9.1->qiskit) (0.1.55)\n",
      "Requirement already satisfied: pandas<=1.2.3 in c:\\users\\phanb\\anaconda3\\lib\\site-packages (from qiskit-aqua==0.9.1->qiskit) (1.0.1)\n",
      "Requirement already satisfied: fastdtw<=0.3.4 in c:\\users\\phanb\\anaconda3\\lib\\site-packages (from qiskit-aqua==0.9.1->qiskit) (0.3.4)\n",
      "Requirement already satisfied: quandl<=3.6.0 in c:\\users\\phanb\\anaconda3\\lib\\site-packages (from qiskit-aqua==0.9.1->qiskit) (3.6.0)\n",
      "Requirement already satisfied: psutil<=5.8.0,>=5 in c:\\users\\phanb\\anaconda3\\lib\\site-packages (from qiskit-aqua==0.9.1->qiskit) (5.6.7)\n",
      "Requirement already satisfied: dlx<=1.0.4 in c:\\users\\phanb\\anaconda3\\lib\\site-packages (from qiskit-aqua==0.9.1->qiskit) (1.0.4)\n",
      "Requirement already satisfied: sympy<=1.7.1,>=1.3 in c:\\users\\phanb\\anaconda3\\lib\\site-packages (from qiskit-aqua==0.9.1->qiskit) (1.5.1)\n",
      "Requirement already satisfied: python-dateutil>=2.8.0 in c:\\users\\phanb\\anaconda3\\lib\\site-packages (from qiskit-ibmq-provider==0.13.1->qiskit) (2.8.1)\n",
      "Requirement already satisfied: urllib3>=1.21.1 in c:\\users\\phanb\\anaconda3\\lib\\site-packages (from qiskit-ibmq-provider==0.13.1->qiskit) (1.25.8)\n",
      "Requirement already satisfied: requests-ntlm>=1.1.0 in c:\\users\\phanb\\anaconda3\\lib\\site-packages (from qiskit-ibmq-provider==0.13.1->qiskit) (1.1.0)\n",
      "Requirement already satisfied: nest-asyncio!=1.1.0,>=1.0.0 in c:\\users\\phanb\\anaconda3\\lib\\site-packages (from qiskit-ibmq-provider==0.13.1->qiskit) (1.5.1)\n",
      "Requirement already satisfied: dill>=0.3 in c:\\users\\phanb\\anaconda3\\lib\\site-packages (from qiskit-ibmq-provider==0.13.1->qiskit) (0.3.3)\n",
      "Requirement already satisfied: requests>=2.19 in c:\\users\\phanb\\anaconda3\\lib\\site-packages (from qiskit-ibmq-provider==0.13.1->qiskit) (2.22.0)\n",
      "Requirement already satisfied: websockets>=8 in c:\\users\\phanb\\anaconda3\\lib\\site-packages (from qiskit-ibmq-provider==0.13.1->qiskit) (9.1)\n",
      "Requirement already satisfied: python-constraint>=1.4 in c:\\users\\phanb\\anaconda3\\lib\\site-packages (from qiskit-terra==0.17.4->qiskit) (1.4.0)\n",
      "Requirement already satisfied: jsonschema>=2.6 in c:\\users\\phanb\\anaconda3\\lib\\site-packages (from qiskit-terra==0.17.4->qiskit) (3.2.0)\n",
      "Requirement already satisfied: ply>=3.10 in c:\\users\\phanb\\anaconda3\\lib\\site-packages (from qiskit-terra==0.17.4->qiskit) (3.11)\n",
      "Requirement already satisfied: fastjsonschema>=2.10 in c:\\users\\phanb\\anaconda3\\lib\\site-packages (from qiskit-terra==0.17.4->qiskit) (2.15.1)\n",
      "Requirement already satisfied: six in c:\\users\\phanb\\anaconda3\\lib\\site-packages (from docplex<=2.20.204; sys_platform != \"darwin\"->qiskit-aqua==0.9.1->qiskit) (1.14.0)\n",
      "Requirement already satisfied: joblib>=0.11 in c:\\users\\phanb\\anaconda3\\lib\\site-packages (from scikit-learn<=0.24.1,>=0.20.0->qiskit-aqua==0.9.1->qiskit) (0.14.1)\n",
      "Requirement already satisfied: lxml>=4.5.1 in c:\\users\\phanb\\anaconda3\\lib\\site-packages (from yfinance<=0.1.55->qiskit-aqua==0.9.1->qiskit) (4.6.3)\n",
      "Requirement already satisfied: multitasking>=0.0.7 in c:\\users\\phanb\\anaconda3\\lib\\site-packages (from yfinance<=0.1.55->qiskit-aqua==0.9.1->qiskit) (0.0.9)\n",
      "Requirement already satisfied: pytz>=2017.2 in c:\\users\\phanb\\anaconda3\\lib\\site-packages (from pandas<=1.2.3->qiskit-aqua==0.9.1->qiskit) (2019.3)\n",
      "Requirement already satisfied: inflection>=0.3.1 in c:\\users\\phanb\\anaconda3\\lib\\site-packages (from quandl<=3.6.0->qiskit-aqua==0.9.1->qiskit) (0.5.1)\n",
      "Requirement already satisfied: more-itertools in c:\\users\\phanb\\anaconda3\\lib\\site-packages (from quandl<=3.6.0->qiskit-aqua==0.9.1->qiskit) (8.2.0)\n",
      "Requirement already satisfied: mpmath>=0.19 in c:\\users\\phanb\\anaconda3\\lib\\site-packages (from sympy<=1.7.1,>=1.3->qiskit-aqua==0.9.1->qiskit) (1.1.0)\n",
      "Requirement already satisfied: cryptography>=1.3 in c:\\users\\phanb\\anaconda3\\lib\\site-packages (from requests-ntlm>=1.1.0->qiskit-ibmq-provider==0.13.1->qiskit) (2.8)\n",
      "Requirement already satisfied: ntlm-auth>=1.0.2 in c:\\users\\phanb\\anaconda3\\lib\\site-packages (from requests-ntlm>=1.1.0->qiskit-ibmq-provider==0.13.1->qiskit) (1.5.0)\n",
      "Requirement already satisfied: certifi>=2017.4.17 in c:\\users\\phanb\\anaconda3\\lib\\site-packages (from requests>=2.19->qiskit-ibmq-provider==0.13.1->qiskit) (2019.11.28)\n",
      "Requirement already satisfied: chardet<3.1.0,>=3.0.2 in c:\\users\\phanb\\anaconda3\\lib\\site-packages (from requests>=2.19->qiskit-ibmq-provider==0.13.1->qiskit) (3.0.4)\n",
      "Requirement already satisfied: idna<2.9,>=2.5 in c:\\users\\phanb\\anaconda3\\lib\\site-packages (from requests>=2.19->qiskit-ibmq-provider==0.13.1->qiskit) (2.8)\n",
      "Requirement already satisfied: pyrsistent>=0.14.0 in c:\\users\\phanb\\anaconda3\\lib\\site-packages (from jsonschema>=2.6->qiskit-terra==0.17.4->qiskit) (0.15.7)\n",
      "Requirement already satisfied: attrs>=17.4.0 in c:\\users\\phanb\\anaconda3\\lib\\site-packages (from jsonschema>=2.6->qiskit-terra==0.17.4->qiskit) (19.3.0)\n",
      "Requirement already satisfied: importlib-metadata; python_version < \"3.8\" in c:\\users\\phanb\\anaconda3\\lib\\site-packages (from jsonschema>=2.6->qiskit-terra==0.17.4->qiskit) (1.5.0)\n",
      "Requirement already satisfied: cffi!=1.11.3,>=1.8 in c:\\users\\phanb\\anaconda3\\lib\\site-packages (from cryptography>=1.3->requests-ntlm>=1.1.0->qiskit-ibmq-provider==0.13.1->qiskit) (1.14.0)\n",
      "Requirement already satisfied: zipp>=0.5 in c:\\users\\phanb\\anaconda3\\lib\\site-packages (from importlib-metadata; python_version < \"3.8\"->jsonschema>=2.6->qiskit-terra==0.17.4->qiskit) (2.2.0)\n",
      "Requirement already satisfied: pycparser in c:\\users\\phanb\\anaconda3\\lib\\site-packages (from cffi!=1.11.3,>=1.8->cryptography>=1.3->requests-ntlm>=1.1.0->qiskit-ibmq-provider==0.13.1->qiskit) (2.19)\n",
      "Note: you may need to restart the kernel to use updated packages.\n"
     ]
    }
   ],
   "source": [
    "pip install qiskit"
   ]
  },
  {
   "cell_type": "code",
   "execution_count": 2,
   "metadata": {},
   "outputs": [
    {
     "name": "stdout",
     "output_type": "stream",
     "text": [
      "Collecting git+https://github.com/qiskit-community/qiskit-textbook.git#subdirectory=qiskit-textbook-src\n",
      "  Cloning https://github.com/qiskit-community/qiskit-textbook.git to c:\\users\\phanb\\appdata\\local\\temp\\pip-req-build-r5o43hx_\n",
      "Requirement already satisfied (use --upgrade to upgrade): qiskit-textbook==0.1.0 from git+https://github.com/qiskit-community/qiskit-textbook.git#subdirectory=qiskit-textbook-src in c:\\users\\phanb\\anaconda3\\lib\\site-packages\n",
      "Requirement already satisfied: qiskit in c:\\users\\phanb\\anaconda3\\lib\\site-packages (from qiskit-textbook==0.1.0) (0.26.2)\n",
      "Requirement already satisfied: ipython in c:\\users\\phanb\\anaconda3\\lib\\site-packages (from qiskit-textbook==0.1.0) (7.12.0)\n",
      "Requirement already satisfied: ipywidgets in c:\\users\\phanb\\anaconda3\\lib\\site-packages (from qiskit-textbook==0.1.0) (7.5.1)\n",
      "Requirement already satisfied: numpy in c:\\users\\phanb\\anaconda3\\lib\\site-packages (from qiskit-textbook==0.1.0) (1.18.1)\n",
      "Requirement already satisfied: matplotlib in c:\\users\\phanb\\anaconda3\\lib\\site-packages (from qiskit-textbook==0.1.0) (3.1.3)\n",
      "Requirement already satisfied: qiskit-terra==0.17.4 in c:\\users\\phanb\\anaconda3\\lib\\site-packages (from qiskit->qiskit-textbook==0.1.0) (0.17.4)\n",
      "Requirement already satisfied: qiskit-aqua==0.9.1 in c:\\users\\phanb\\anaconda3\\lib\\site-packages (from qiskit->qiskit-textbook==0.1.0) (0.9.1)\n",
      "Requirement already satisfied: qiskit-aer==0.8.2 in c:\\users\\phanb\\anaconda3\\lib\\site-packages (from qiskit->qiskit-textbook==0.1.0) (0.8.2)\n",
      "Requirement already satisfied: qiskit-ibmq-provider==0.13.1 in c:\\users\\phanb\\anaconda3\\lib\\site-packages (from qiskit->qiskit-textbook==0.1.0) (0.13.1)\n",
      "Requirement already satisfied: qiskit-ignis==0.6.0 in c:\\users\\phanb\\anaconda3\\lib\\site-packages (from qiskit->qiskit-textbook==0.1.0) (0.6.0)\n",
      "Requirement already satisfied: decorator in c:\\users\\phanb\\anaconda3\\lib\\site-packages (from ipython->qiskit-textbook==0.1.0) (4.4.1)\n",
      "Requirement already satisfied: jedi>=0.10 in c:\\users\\phanb\\anaconda3\\lib\\site-packages (from ipython->qiskit-textbook==0.1.0) (0.14.1)\n",
      "Requirement already satisfied: pygments in c:\\users\\phanb\\anaconda3\\lib\\site-packages (from ipython->qiskit-textbook==0.1.0) (2.5.2)\n",
      "Requirement already satisfied: prompt-toolkit!=3.0.0,!=3.0.1,<3.1.0,>=2.0.0 in c:\\users\\phanb\\anaconda3\\lib\\site-packages (from ipython->qiskit-textbook==0.1.0) (3.0.3)\n",
      "Requirement already satisfied: traitlets>=4.2 in c:\\users\\phanb\\anaconda3\\lib\\site-packages (from ipython->qiskit-textbook==0.1.0) (4.3.3)\n",
      "Requirement already satisfied: backcall in c:\\users\\phanb\\anaconda3\\lib\\site-packages (from ipython->qiskit-textbook==0.1.0) (0.1.0)\n",
      "Requirement already satisfied: pickleshare in c:\\users\\phanb\\anaconda3\\lib\\site-packages (from ipython->qiskit-textbook==0.1.0) (0.7.5)\n",
      "Requirement already satisfied: setuptools>=18.5 in c:\\users\\phanb\\anaconda3\\lib\\site-packages (from ipython->qiskit-textbook==0.1.0) (45.2.0.post20200210)\n",
      "Requirement already satisfied: colorama; sys_platform == \"win32\" in c:\\users\\phanb\\anaconda3\\lib\\site-packages (from ipython->qiskit-textbook==0.1.0) (0.4.3)\n",
      "Requirement already satisfied: widgetsnbextension~=3.5.0 in c:\\users\\phanb\\anaconda3\\lib\\site-packages (from ipywidgets->qiskit-textbook==0.1.0) (3.5.1)\n",
      "Requirement already satisfied: nbformat>=4.2.0 in c:\\users\\phanb\\anaconda3\\lib\\site-packages (from ipywidgets->qiskit-textbook==0.1.0) (5.0.4)\n",
      "Requirement already satisfied: ipykernel>=4.5.1 in c:\\users\\phanb\\anaconda3\\lib\\site-packages (from ipywidgets->qiskit-textbook==0.1.0) (5.1.4)\n",
      "Requirement already satisfied: pyparsing!=2.0.4,!=2.1.2,!=2.1.6,>=2.0.1 in c:\\users\\phanb\\anaconda3\\lib\\site-packages (from matplotlib->qiskit-textbook==0.1.0) (2.4.6)\n",
      "Requirement already satisfied: kiwisolver>=1.0.1 in c:\\users\\phanb\\anaconda3\\lib\\site-packages (from matplotlib->qiskit-textbook==0.1.0) (1.1.0)\n",
      "Requirement already satisfied: cycler>=0.10 in c:\\users\\phanb\\anaconda3\\lib\\site-packages (from matplotlib->qiskit-textbook==0.1.0) (0.10.0)\n",
      "Requirement already satisfied: python-dateutil>=2.1 in c:\\users\\phanb\\anaconda3\\lib\\site-packages (from matplotlib->qiskit-textbook==0.1.0) (2.8.1)\n",
      "Requirement already satisfied: ply>=3.10 in c:\\users\\phanb\\anaconda3\\lib\\site-packages (from qiskit-terra==0.17.4->qiskit->qiskit-textbook==0.1.0) (3.11)\n",
      "Requirement already satisfied: jsonschema>=2.6 in c:\\users\\phanb\\anaconda3\\lib\\site-packages (from qiskit-terra==0.17.4->qiskit->qiskit-textbook==0.1.0) (3.2.0)\n",
      "Requirement already satisfied: scipy>=1.4 in c:\\users\\phanb\\anaconda3\\lib\\site-packages (from qiskit-terra==0.17.4->qiskit->qiskit-textbook==0.1.0) (1.4.1)\n",
      "Requirement already satisfied: psutil>=5 in c:\\users\\phanb\\anaconda3\\lib\\site-packages (from qiskit-terra==0.17.4->qiskit->qiskit-textbook==0.1.0) (5.6.7)\n",
      "Requirement already satisfied: fastjsonschema>=2.10 in c:\\users\\phanb\\anaconda3\\lib\\site-packages (from qiskit-terra==0.17.4->qiskit->qiskit-textbook==0.1.0) (2.15.1)\n",
      "Requirement already satisfied: dill>=0.3 in c:\\users\\phanb\\anaconda3\\lib\\site-packages (from qiskit-terra==0.17.4->qiskit->qiskit-textbook==0.1.0) (0.3.3)\n",
      "Requirement already satisfied: python-constraint>=1.4 in c:\\users\\phanb\\anaconda3\\lib\\site-packages (from qiskit-terra==0.17.4->qiskit->qiskit-textbook==0.1.0) (1.4.0)\n",
      "Requirement already satisfied: sympy>=1.3 in c:\\users\\phanb\\anaconda3\\lib\\site-packages (from qiskit-terra==0.17.4->qiskit->qiskit-textbook==0.1.0) (1.5.1)\n",
      "Requirement already satisfied: retworkx>=0.8.0 in c:\\users\\phanb\\anaconda3\\lib\\site-packages (from qiskit-terra==0.17.4->qiskit->qiskit-textbook==0.1.0) (0.8.0)\n",
      "Requirement already satisfied: dlx<=1.0.4 in c:\\users\\phanb\\anaconda3\\lib\\site-packages (from qiskit-aqua==0.9.1->qiskit->qiskit-textbook==0.1.0) (1.0.4)\n",
      "Requirement already satisfied: scikit-learn<=0.24.1,>=0.20.0 in c:\\users\\phanb\\anaconda3\\lib\\site-packages (from qiskit-aqua==0.9.1->qiskit->qiskit-textbook==0.1.0) (0.22.1)\n",
      "Requirement already satisfied: docplex<=2.20.204; sys_platform != \"darwin\" in c:\\users\\phanb\\anaconda3\\lib\\site-packages (from qiskit-aqua==0.9.1->qiskit->qiskit-textbook==0.1.0) (2.20.204)\n",
      "Requirement already satisfied: yfinance<=0.1.55 in c:\\users\\phanb\\anaconda3\\lib\\site-packages (from qiskit-aqua==0.9.1->qiskit->qiskit-textbook==0.1.0) (0.1.55)\n",
      "Requirement already satisfied: h5py<=3.1.0 in c:\\users\\phanb\\anaconda3\\lib\\site-packages (from qiskit-aqua==0.9.1->qiskit->qiskit-textbook==0.1.0) (2.10.0)\n",
      "Requirement already satisfied: pandas<=1.2.3 in c:\\users\\phanb\\anaconda3\\lib\\site-packages (from qiskit-aqua==0.9.1->qiskit->qiskit-textbook==0.1.0) (1.0.1)\n",
      "Requirement already satisfied: fastdtw<=0.3.4 in c:\\users\\phanb\\anaconda3\\lib\\site-packages (from qiskit-aqua==0.9.1->qiskit->qiskit-textbook==0.1.0) (0.3.4)\n",
      "Requirement already satisfied: quandl<=3.6.0 in c:\\users\\phanb\\anaconda3\\lib\\site-packages (from qiskit-aqua==0.9.1->qiskit->qiskit-textbook==0.1.0) (3.6.0)\n",
      "Requirement already satisfied: pybind11>=2.6 in c:\\users\\phanb\\anaconda3\\lib\\site-packages (from qiskit-aer==0.8.2->qiskit->qiskit-textbook==0.1.0) (2.6.2)\n",
      "Requirement already satisfied: requests-ntlm>=1.1.0 in c:\\users\\phanb\\anaconda3\\lib\\site-packages (from qiskit-ibmq-provider==0.13.1->qiskit->qiskit-textbook==0.1.0) (1.1.0)\n",
      "Requirement already satisfied: websockets>=8 in c:\\users\\phanb\\anaconda3\\lib\\site-packages (from qiskit-ibmq-provider==0.13.1->qiskit->qiskit-textbook==0.1.0) (9.1)\n",
      "Requirement already satisfied: requests>=2.19 in c:\\users\\phanb\\anaconda3\\lib\\site-packages (from qiskit-ibmq-provider==0.13.1->qiskit->qiskit-textbook==0.1.0) (2.22.0)\n",
      "Requirement already satisfied: urllib3>=1.21.1 in c:\\users\\phanb\\anaconda3\\lib\\site-packages (from qiskit-ibmq-provider==0.13.1->qiskit->qiskit-textbook==0.1.0) (1.25.8)\n",
      "Requirement already satisfied: nest-asyncio!=1.1.0,>=1.0.0 in c:\\users\\phanb\\anaconda3\\lib\\site-packages (from qiskit-ibmq-provider==0.13.1->qiskit->qiskit-textbook==0.1.0) (1.5.1)\n",
      "Requirement already satisfied: parso>=0.5.0 in c:\\users\\phanb\\anaconda3\\lib\\site-packages (from jedi>=0.10->ipython->qiskit-textbook==0.1.0) (0.5.2)\n",
      "Requirement already satisfied: wcwidth in c:\\users\\phanb\\anaconda3\\lib\\site-packages (from prompt-toolkit!=3.0.0,!=3.0.1,<3.1.0,>=2.0.0->ipython->qiskit-textbook==0.1.0) (0.1.8)\n",
      "Requirement already satisfied: six in c:\\users\\phanb\\anaconda3\\lib\\site-packages (from traitlets>=4.2->ipython->qiskit-textbook==0.1.0) (1.14.0)\n",
      "Requirement already satisfied: ipython-genutils in c:\\users\\phanb\\anaconda3\\lib\\site-packages (from traitlets>=4.2->ipython->qiskit-textbook==0.1.0) (0.2.0)\n",
      "Requirement already satisfied: notebook>=4.4.1 in c:\\users\\phanb\\anaconda3\\lib\\site-packages (from widgetsnbextension~=3.5.0->ipywidgets->qiskit-textbook==0.1.0) (6.0.3)\n",
      "Requirement already satisfied: jupyter-core in c:\\users\\phanb\\anaconda3\\lib\\site-packages (from nbformat>=4.2.0->ipywidgets->qiskit-textbook==0.1.0) (4.6.1)\n",
      "Requirement already satisfied: tornado>=4.2 in c:\\users\\phanb\\anaconda3\\lib\\site-packages (from ipykernel>=4.5.1->ipywidgets->qiskit-textbook==0.1.0) (6.0.3)\n",
      "Requirement already satisfied: jupyter-client in c:\\users\\phanb\\anaconda3\\lib\\site-packages (from ipykernel>=4.5.1->ipywidgets->qiskit-textbook==0.1.0) (5.3.4)\n",
      "Requirement already satisfied: attrs>=17.4.0 in c:\\users\\phanb\\anaconda3\\lib\\site-packages (from jsonschema>=2.6->qiskit-terra==0.17.4->qiskit->qiskit-textbook==0.1.0) (19.3.0)\n",
      "Requirement already satisfied: importlib-metadata; python_version < \"3.8\" in c:\\users\\phanb\\anaconda3\\lib\\site-packages (from jsonschema>=2.6->qiskit-terra==0.17.4->qiskit->qiskit-textbook==0.1.0) (1.5.0)\n",
      "Requirement already satisfied: pyrsistent>=0.14.0 in c:\\users\\phanb\\anaconda3\\lib\\site-packages (from jsonschema>=2.6->qiskit-terra==0.17.4->qiskit->qiskit-textbook==0.1.0) (0.15.7)\n",
      "Requirement already satisfied: mpmath>=0.19 in c:\\users\\phanb\\anaconda3\\lib\\site-packages (from sympy>=1.3->qiskit-terra==0.17.4->qiskit->qiskit-textbook==0.1.0) (1.1.0)\n",
      "Requirement already satisfied: joblib>=0.11 in c:\\users\\phanb\\anaconda3\\lib\\site-packages (from scikit-learn<=0.24.1,>=0.20.0->qiskit-aqua==0.9.1->qiskit->qiskit-textbook==0.1.0) (0.14.1)\n",
      "Requirement already satisfied: lxml>=4.5.1 in c:\\users\\phanb\\anaconda3\\lib\\site-packages (from yfinance<=0.1.55->qiskit-aqua==0.9.1->qiskit->qiskit-textbook==0.1.0) (4.6.3)\n",
      "Requirement already satisfied: multitasking>=0.0.7 in c:\\users\\phanb\\anaconda3\\lib\\site-packages (from yfinance<=0.1.55->qiskit-aqua==0.9.1->qiskit->qiskit-textbook==0.1.0) (0.0.9)\n",
      "Requirement already satisfied: pytz>=2017.2 in c:\\users\\phanb\\anaconda3\\lib\\site-packages (from pandas<=1.2.3->qiskit-aqua==0.9.1->qiskit->qiskit-textbook==0.1.0) (2019.3)\n",
      "Requirement already satisfied: inflection>=0.3.1 in c:\\users\\phanb\\anaconda3\\lib\\site-packages (from quandl<=3.6.0->qiskit-aqua==0.9.1->qiskit->qiskit-textbook==0.1.0) (0.5.1)\n",
      "Requirement already satisfied: more-itertools in c:\\users\\phanb\\anaconda3\\lib\\site-packages (from quandl<=3.6.0->qiskit-aqua==0.9.1->qiskit->qiskit-textbook==0.1.0) (8.2.0)\n",
      "Requirement already satisfied: ntlm-auth>=1.0.2 in c:\\users\\phanb\\anaconda3\\lib\\site-packages (from requests-ntlm>=1.1.0->qiskit-ibmq-provider==0.13.1->qiskit->qiskit-textbook==0.1.0) (1.5.0)\n",
      "Requirement already satisfied: cryptography>=1.3 in c:\\users\\phanb\\anaconda3\\lib\\site-packages (from requests-ntlm>=1.1.0->qiskit-ibmq-provider==0.13.1->qiskit->qiskit-textbook==0.1.0) (2.8)\n",
      "Requirement already satisfied: idna<2.9,>=2.5 in c:\\users\\phanb\\anaconda3\\lib\\site-packages (from requests>=2.19->qiskit-ibmq-provider==0.13.1->qiskit->qiskit-textbook==0.1.0) (2.8)\n",
      "Requirement already satisfied: chardet<3.1.0,>=3.0.2 in c:\\users\\phanb\\anaconda3\\lib\\site-packages (from requests>=2.19->qiskit-ibmq-provider==0.13.1->qiskit->qiskit-textbook==0.1.0) (3.0.4)\n",
      "Requirement already satisfied: certifi>=2017.4.17 in c:\\users\\phanb\\anaconda3\\lib\\site-packages (from requests>=2.19->qiskit-ibmq-provider==0.13.1->qiskit->qiskit-textbook==0.1.0) (2019.11.28)\n",
      "Requirement already satisfied: Send2Trash in c:\\users\\phanb\\anaconda3\\lib\\site-packages (from notebook>=4.4.1->widgetsnbextension~=3.5.0->ipywidgets->qiskit-textbook==0.1.0) (1.5.0)\n",
      "Requirement already satisfied: prometheus-client in c:\\users\\phanb\\anaconda3\\lib\\site-packages (from notebook>=4.4.1->widgetsnbextension~=3.5.0->ipywidgets->qiskit-textbook==0.1.0) (0.7.1)\n",
      "Requirement already satisfied: jinja2 in c:\\users\\phanb\\anaconda3\\lib\\site-packages (from notebook>=4.4.1->widgetsnbextension~=3.5.0->ipywidgets->qiskit-textbook==0.1.0) (2.11.1)\n",
      "Requirement already satisfied: terminado>=0.8.1 in c:\\users\\phanb\\anaconda3\\lib\\site-packages (from notebook>=4.4.1->widgetsnbextension~=3.5.0->ipywidgets->qiskit-textbook==0.1.0) (0.8.3)\n",
      "Requirement already satisfied: pyzmq>=17 in c:\\users\\phanb\\anaconda3\\lib\\site-packages (from notebook>=4.4.1->widgetsnbextension~=3.5.0->ipywidgets->qiskit-textbook==0.1.0) (18.1.1)\n",
      "Requirement already satisfied: nbconvert in c:\\users\\phanb\\anaconda3\\lib\\site-packages (from notebook>=4.4.1->widgetsnbextension~=3.5.0->ipywidgets->qiskit-textbook==0.1.0) (5.6.1)\n",
      "Requirement already satisfied: pywin32>=1.0; sys_platform == \"win32\" in c:\\users\\phanb\\anaconda3\\lib\\site-packages (from jupyter-core->nbformat>=4.2.0->ipywidgets->qiskit-textbook==0.1.0) (227)\n",
      "Requirement already satisfied: zipp>=0.5 in c:\\users\\phanb\\anaconda3\\lib\\site-packages (from importlib-metadata; python_version < \"3.8\"->jsonschema>=2.6->qiskit-terra==0.17.4->qiskit->qiskit-textbook==0.1.0) (2.2.0)\n",
      "Requirement already satisfied: cffi!=1.11.3,>=1.8 in c:\\users\\phanb\\anaconda3\\lib\\site-packages (from cryptography>=1.3->requests-ntlm>=1.1.0->qiskit-ibmq-provider==0.13.1->qiskit->qiskit-textbook==0.1.0) (1.14.0)\n",
      "Requirement already satisfied: MarkupSafe>=0.23 in c:\\users\\phanb\\anaconda3\\lib\\site-packages (from jinja2->notebook>=4.4.1->widgetsnbextension~=3.5.0->ipywidgets->qiskit-textbook==0.1.0) (1.1.1)\n",
      "Requirement already satisfied: pandocfilters>=1.4.1 in c:\\users\\phanb\\anaconda3\\lib\\site-packages (from nbconvert->notebook>=4.4.1->widgetsnbextension~=3.5.0->ipywidgets->qiskit-textbook==0.1.0) (1.4.2)\n",
      "Requirement already satisfied: bleach in c:\\users\\phanb\\anaconda3\\lib\\site-packages (from nbconvert->notebook>=4.4.1->widgetsnbextension~=3.5.0->ipywidgets->qiskit-textbook==0.1.0) (3.1.0)\n",
      "Requirement already satisfied: entrypoints>=0.2.2 in c:\\users\\phanb\\anaconda3\\lib\\site-packages (from nbconvert->notebook>=4.4.1->widgetsnbextension~=3.5.0->ipywidgets->qiskit-textbook==0.1.0) (0.3)\n",
      "Requirement already satisfied: defusedxml in c:\\users\\phanb\\anaconda3\\lib\\site-packages (from nbconvert->notebook>=4.4.1->widgetsnbextension~=3.5.0->ipywidgets->qiskit-textbook==0.1.0) (0.6.0)\n",
      "Requirement already satisfied: testpath in c:\\users\\phanb\\anaconda3\\lib\\site-packages (from nbconvert->notebook>=4.4.1->widgetsnbextension~=3.5.0->ipywidgets->qiskit-textbook==0.1.0) (0.4.4)\n",
      "Requirement already satisfied: mistune<2,>=0.8.1 in c:\\users\\phanb\\anaconda3\\lib\\site-packages (from nbconvert->notebook>=4.4.1->widgetsnbextension~=3.5.0->ipywidgets->qiskit-textbook==0.1.0) (0.8.4)\n",
      "Requirement already satisfied: pycparser in c:\\users\\phanb\\anaconda3\\lib\\site-packages (from cffi!=1.11.3,>=1.8->cryptography>=1.3->requests-ntlm>=1.1.0->qiskit-ibmq-provider==0.13.1->qiskit->qiskit-textbook==0.1.0) (2.19)\n",
      "Requirement already satisfied: webencodings in c:\\users\\phanb\\anaconda3\\lib\\site-packages (from bleach->nbconvert->notebook>=4.4.1->widgetsnbextension~=3.5.0->ipywidgets->qiskit-textbook==0.1.0) (0.5.1)\n",
      "Building wheels for collected packages: qiskit-textbook\n",
      "  Building wheel for qiskit-textbook (setup.py): started\n",
      "  Building wheel for qiskit-textbook (setup.py): finished with status 'done'\n",
      "  Created wheel for qiskit-textbook: filename=qiskit_textbook-0.1.0-py3-none-any.whl size=17067 sha256=d095be56be4c96ed79c13e017acd8872c90401e145697ee0e4db578d0d6f3e4a\n",
      "  Stored in directory: C:\\Users\\phanb\\AppData\\Local\\Temp\\pip-ephem-wheel-cache-_1re0hwn\\wheels\\71\\5a\\d9\\c90e2359a47893f51cf2ccd814aca4979bc32eb423b258aa25\n",
      "Successfully built qiskit-textbook\n",
      "Note: you may need to restart the kernel to use updated packages.\n"
     ]
    },
    {
     "name": "stderr",
     "output_type": "stream",
     "text": [
      "  Running command git clone -q https://github.com/qiskit-community/qiskit-textbook.git 'C:\\Users\\phanb\\AppData\\Local\\Temp\\pip-req-build-r5o43hx_'\n"
     ]
    }
   ],
   "source": [
    "pip install git+https://github.com/qiskit-community/qiskit-textbook.git#subdirectory=qiskit-textbook-src"
   ]
  },
  {
   "cell_type": "code",
   "execution_count": 3,
   "metadata": {},
   "outputs": [],
   "source": [
    "from math import sqrt\n",
    "# Importing everything\n",
    "from qiskit import *\n",
    "from qiskit.visualization import plot_histogram, plot_bloch_multivector\n",
    "from qiskit_textbook.tools import array_to_latex\n",
    "\n",
    "# Define a function that takes a QuantumCircuit (qc)\n",
    "# and two integers (a & b)\n",
    "def create_bell_pair(qc, a, b):\n",
    "    qc.h(a) # Apply a h-gate to the first qubit\n",
    "    qc.cx(a,b) # Apply a CNOT, using the first qubit as the control\n",
    "\n",
    "# Define a function that takes a QuantumCircuit (qc)\n",
    "# a qubit index (qubit) and a message string (msg)\n",
    "def encode_message(qc, qubit, msg):\n",
    "    if msg == \"00\":\n",
    "        pass    # To send 00 we do nothing\n",
    "    elif msg == \"10\":\n",
    "        qc.x(qubit) # To send 10 we apply an X-gate\n",
    "    elif msg == \"01\":\n",
    "        qc.z(qubit) # To send 01 we apply a Z-gate\n",
    "    elif msg == \"11\":\n",
    "        qc.z(qubit) # To send 11, we apply a Z-gate\n",
    "        qc.x(qubit) # followed by an X-gate\n",
    "    else:\n",
    "        print(\"Invalid Message: Sending '00'\")\n",
    "\n",
    "def decode_message(qc, a, b):\n",
    "    qc.cx(a,b)\n",
    "    qc.h(a)"
   ]
  },
  {
   "cell_type": "code",
   "execution_count": 4,
   "metadata": {
    "pycharm": {
     "name": "#%%\n"
    }
   },
   "outputs": [
    {
     "data": {
      "text/html": [
       "<pre style=\"word-wrap: normal;white-space: pre;background: #fff0;line-height: 1.1;font-family: &quot;Courier New&quot;,Courier,monospace\">        ┌───┐      ░ ┌───┐ ░      ┌───┐ ░ ┌─┐   \n",
       "   q_0: ┤ H ├──■───░─┤ X ├─░───■──┤ H ├─░─┤M├───\n",
       "        └───┘┌─┴─┐ ░ └───┘ ░ ┌─┴─┐└───┘ ░ └╥┘┌─┐\n",
       "   q_1: ─────┤ X ├─░───────░─┤ X ├──────░──╫─┤M├\n",
       "             └───┘ ░       ░ └───┘      ░  ║ └╥┘\n",
       "meas: 2/═══════════════════════════════════╩══╩═\n",
       "                                           0  1 </pre>"
      ],
      "text/plain": [
       "        ┌───┐      ░ ┌───┐ ░      ┌───┐ ░ ┌─┐   \n",
       "   q_0: ┤ H ├──■───░─┤ X ├─░───■──┤ H ├─░─┤M├───\n",
       "        └───┘┌─┴─┐ ░ └───┘ ░ ┌─┴─┐└───┘ ░ └╥┘┌─┐\n",
       "   q_1: ─────┤ X ├─░───────░─┤ X ├──────░──╫─┤M├\n",
       "             └───┘ ░       ░ └───┘      ░  ║ └╥┘\n",
       "meas: 2/═══════════════════════════════════╩══╩═\n",
       "                                           0  1 "
      ]
     },
     "execution_count": 4,
     "metadata": {},
     "output_type": "execute_result"
    }
   ],
   "source": [
    "# Create the quantum circuit with 2 qubits\n",
    "qc = QuantumCircuit(2)\n",
    "\n",
    "\n",
    "# First, Charlie creates the entangled pair between Alice and Bob\n",
    "create_bell_pair(qc, 0, 1)\n",
    "qc.barrier() # This adds a barrier to our circuit. A barrier\n",
    "             # separates the gates in our diagram and makes it\n",
    "             # clear which part of the circuit is which\n",
    "\n",
    "# At this point, qubit 0 goes to Alice and qubit 1 goes to Bob\n",
    "\n",
    "# Next, Alice encodes her message onto qubit 0. In this case,\n",
    "# we want to send the message '10'. You can try changing this\n",
    "# value and see how it affects the circuit\n",
    "message = \"10\"\n",
    "encode_message(qc, 0, message)\n",
    "qc.barrier()\n",
    "# Alice then sends her qubit to Bob.\n",
    "\n",
    "# After recieving qubit 0, Bob applies the recovery protocol:\n",
    "decode_message(qc, 0, 1)\n",
    "\n",
    "# Finally, Bob measures his qubits to read Alice's message\n",
    "qc.measure_all()\n",
    "\n",
    "# Draw our output\n",
    "qc.draw()"
   ]
  },
  {
   "cell_type": "code",
   "execution_count": 5,
   "metadata": {
    "pycharm": {
     "name": "#%%\n"
    }
   },
   "outputs": [
    {
     "name": "stdout",
     "output_type": "stream",
     "text": [
      "{'10': 1024}\n"
     ]
    },
    {
     "data": {
      "image/png": "[encoded data removed]",
      "text/plain": [
       "<Figure size 504x360 with 1 Axes>"
      ]
     },
     "execution_count": 5,
     "metadata": {},
     "output_type": "execute_result"
    }
   ],
   "source": [
    "qasm_sim = Aer.get_backend('qasm_simulator')\n",
    "qobj = assemble(qc)\n",
    "result = qasm_sim.run(qobj).result()\n",
    "counts = result.get_counts(qc)\n",
    "print(counts)\n",
    "plot_histogram(counts)\n",
    "\n"
   ]
  },
  {
   "cell_type": "code",
   "execution_count": 6,
   "metadata": {},
   "outputs": [
    {
     "name": "stderr",
     "output_type": "stream",
     "text": [
      "configrc.store_credentials:WARNING:2021-06-13 13:38:36,192: Credentials already present. Set overwrite=True to overwrite.\n"
     ]
    },
    {
     "data": {
      "text/plain": [
       "<AccountProvider for IBMQ(hub='ibm-q', group='open', project='main')>"
      ]
     },
     "execution_count": 6,
     "metadata": {},
     "output_type": "execute_result"
    }
   ],
   "source": [
    "from qiskit import IBMQ\n",
    "IBMQ.save_account('f38004e99e86fc07d2f553425ac9779d56198e58c43c332b6cc804071a1e9b6e82ff5b78c752268e24bd8851ac35334bab28cb88b0e06378ddefe12d611c5d68')\n",
    "\n",
    "# Load local account information\n",
    "IBMQ.load_account()"
   ]
  },
  {
   "cell_type": "code",
   "execution_count": 7,
   "metadata": {},
   "outputs": [
    {
     "name": "stdout",
     "output_type": "stream",
     "text": [
      "least busy backend:  ibmq_belem\n"
     ]
    },
    {
     "name": "stderr",
     "output_type": "stream",
     "text": [
      "C:\\Users\\phanb\\anaconda3\\lib\\site-packages\\ipykernel_launcher.py:14: DeprecationWarning: Passing a Qobj to Backend.run is deprecated and will be removed in a future release. Please pass in circuits or pulse schedules instead.\n",
      "  \n"
     ]
    }
   ],
   "source": [
    "from qiskit.providers.ibmq import least_busy\n",
    "shots = 1024\n",
    "\n",
    "# Get the least busy backend\n",
    "provider = IBMQ.get_provider(hub='ibm-q')\n",
    "backend = least_busy(provider.backends(filters=lambda x: x.configuration().n_qubits >= 2 \n",
    "                                       and not x.configuration().simulator \n",
    "                                       and x.status().operational==True))\n",
    "print(\"least busy backend: \", backend)\n",
    "\n",
    "# Run our circuit\n",
    "t_qc = transpile(qc, backend, optimization_level=3)\n",
    "qobj = assemble(t_qc)\n",
    "job = backend.run(qobj)"
   ]
  },
  {
   "cell_type": "code",
   "execution_count": 8,
   "metadata": {},
   "outputs": [
    {
     "name": "stdout",
     "output_type": "stream",
     "text": [
      "Job Status: job has successfully run\n"
     ]
    }
   ],
   "source": [
    "# Monitoring our job\n",
    "from qiskit.tools.monitor import job_monitor\n",
    "job_monitor(job)"
   ]
  },
  {
   "cell_type": "code",
   "execution_count": 9,
   "metadata": {},
   "outputs": [
    {
     "data": {
      "image/png": "[encoded data removed]",
      "text/plain": [
       "<Figure size 504x360 with 1 Axes>"
      ]
     },
     "execution_count": 9,
     "metadata": {},
     "output_type": "execute_result"
    }
   ],
   "source": [
    "# Plotting our result\n",
    "result = job.result()\n",
    "plot_histogram(result.get_counts(qc))"
   ]
  },
  {
   "cell_type": "code",
   "execution_count": 10,
   "metadata": {},
   "outputs": [
    {
     "name": "stdout",
     "output_type": "stream",
     "text": [
      "Accuracy = 95.12%\n"
     ]
    }
   ],
   "source": [
    "correct_results = result.get_counts(qc)[message]\n",
    "accuracy = (correct_results/shots)*100\n",
    "print(f\"Accuracy = {accuracy:.2f}%\")"
   ]
  }
 ],
 "metadata": {
  "kernelspec": {
   "display_name": "Python 3 (ipykernel)",
   "language": "python",
   "name": "python3"
  },
  "language_info": {
   "codemirror_mode": {
    "name": "ipython",
    "version": 3
   },
   "file_extension": ".py",
   "mimetype": "text/x-python",
   "name": "python",
   "nbconvert_exporter": "python",
   "pygments_lexer": "ipython3",
   "version": "3.9.7"
  }
 },
 "nbformat": 4,
 "nbformat_minor": 1
}
